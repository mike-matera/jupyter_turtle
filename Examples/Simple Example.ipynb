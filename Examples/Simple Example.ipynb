{
 "cells": [
  {
   "cell_type": "markdown",
   "id": "d34c8f4b-9c05-4ea7-b043-206273c80550",
   "metadata": {},
   "source": [
    "# Turtle Examples using the Simplified API\n",
    "\n",
    "This notebook shows the API in action. The simplified API takes advantage of the IPython extension system to make it mostly foolproof for students. Anytime a turtle command is used in a cell a new canvas is created for the cell and automatially displayed. This prevents students from having to use the `display(tu)` function in every cell and confusion around managing turtle objects. Notebooks that use the turtle should load the extension:"
   ]
  },
  {
   "cell_type": "code",
   "execution_count": 1,
   "id": "4c99a2b3-db36-49cd-b9e5-1412b24ee1a8",
   "metadata": {},
   "outputs": [],
   "source": [
    "%load_ext jupyter_turtle"
   ]
  },
  {
   "cell_type": "markdown",
   "id": "cf240984-22fb-425a-ab40-28de9ab99471",
   "metadata": {},
   "source": [
    "The next line is optional once the module is loaded, I use it to shorten the identifier `jupyter_turtle`."
   ]
  },
  {
   "cell_type": "code",
   "execution_count": 2,
   "id": "e9d9a5b5-d627-4624-a4ec-b839b2157470",
   "metadata": {},
   "outputs": [],
   "source": [
    "import jupyter_turtle as tu"
   ]
  },
  {
   "attachments": {},
   "cell_type": "markdown",
   "id": "eae81f46-ef10-49f6-a020-c72bff782692",
   "metadata": {},
   "source": [
    "## Drawing Lines \n",
    "\n",
    "Think of the turtle as having a pen tied to its tail. When the turtle moves the pen draws a line. The `move` function moves the turtle. Later you'll see how the turtle can pick up and put down the pen so that it's possible to move without drawing a line."
   ]
  },
  {
   "cell_type": "code",
   "execution_count": 3,
   "id": "d967ffb9-adc0-4d17-9dc5-ed38d4b989d6",
   "metadata": {
    "scrolled": true
   },
   "outputs": [
    {
     "data": {
      "application/vnd.jupyter.widget-view+json": {
       "model_id": "919cee842dbf4e7589a588b6afab6bec",
       "version_major": 2,
       "version_minor": 0
      },
      "text/plain": [
       "MultiCanvas(height=300, sync_image_data=True, width=600)"
      ]
     },
     "metadata": {},
     "output_type": "display_data"
    }
   ],
   "source": [
    "tu.move(100)"
   ]
  },
  {
   "attachments": {},
   "cell_type": "markdown",
   "id": "241fa2a4-6bf8-45d4-9393-b2697a9e4981",
   "metadata": {},
   "source": [
    "You can also move in reverse."
   ]
  },
  {
   "cell_type": "code",
   "execution_count": 4,
   "id": "aa5b005f-b442-4cae-a643-5494f9bae762",
   "metadata": {},
   "outputs": [
    {
     "data": {
      "application/vnd.jupyter.widget-view+json": {
       "model_id": "9b8eae38b38346c8a1f3d92cb7bf7144",
       "version_major": 2,
       "version_minor": 0
      },
      "text/plain": [
       "MultiCanvas(height=300, sync_image_data=True, width=600)"
      ]
     },
     "metadata": {},
     "output_type": "display_data"
    }
   ],
   "source": [
    "tu.move(100) # Go forward 100 steps.\n",
    "tu.move(-50) # Go back 50 steps."
   ]
  },
  {
   "attachments": {},
   "cell_type": "markdown",
   "id": "6e9e89f6-a153-4299-b0bf-6513243dee48",
   "metadata": {},
   "source": [
    "## Turns\n",
    "\n",
    "The `turn` function turns the turtle. The number provided to the `turn` function is the angle to turn in degrees. A positive angle is a left turn and a negative angle is a right turn. "
   ]
  },
  {
   "cell_type": "code",
   "execution_count": 5,
   "id": "1e9eb667-9da8-4712-90a7-7043cbcab381",
   "metadata": {},
   "outputs": [
    {
     "data": {
      "application/vnd.jupyter.widget-view+json": {
       "model_id": "e1f01987c85644a0ae6aec87d67fa276",
       "version_major": 2,
       "version_minor": 0
      },
      "text/plain": [
       "MultiCanvas(height=300, sync_image_data=True, width=600)"
      ]
     },
     "metadata": {},
     "output_type": "display_data"
    }
   ],
   "source": [
    "tu.move(30)\n",
    "tu.turn(45) # Turn left\n",
    "tu.move(30)\n",
    "tu.turn(-45) # Turn right\n",
    "tu.move(30)"
   ]
  },
  {
   "attachments": {},
   "cell_type": "markdown",
   "id": "ded67726-8078-478f-9f8a-982d12f82078",
   "metadata": {},
   "source": [
    "## Picking Up and Putting Down the Pen \n",
    "\n",
    "You can control the drawing by picking up the pen. When the pen is up the turtle moves without drawing a line. When you want to draw lines again you can put the pen back down. The `pen_up` and `pen_down` functions control the pen."
   ]
  },
  {
   "cell_type": "code",
   "execution_count": 6,
   "id": "a2e2c72e-b389-49b2-9bbb-fc4f12462d7a",
   "metadata": {},
   "outputs": [
    {
     "data": {
      "application/vnd.jupyter.widget-view+json": {
       "model_id": "29fdbef66ca74fbf812d230c40fce3b7",
       "version_major": 2,
       "version_minor": 0
      },
      "text/plain": [
       "MultiCanvas(height=300, sync_image_data=True, width=600)"
      ]
     },
     "metadata": {},
     "output_type": "display_data"
    }
   ],
   "source": [
    "tu.move(30)\n",
    "tu.pen_up()    # Pick up the pen\n",
    "tu.move(20)    # There will be no line from this draw.\n",
    "tu.pen_down()  # Put down the pen\n",
    "tu.move(30)"
   ]
  },
  {
   "attachments": {},
   "cell_type": "markdown",
   "id": "373a83b6-f04c-4f3d-830d-ce18822b64a0",
   "metadata": {},
   "source": [
    "## The Color and Width of the Pen \n",
    "\n",
    "The `move` and `turn` commands for the turtle are called *functions*. Functions always have the parenthesis `(` and `)` where you give a number for the amount to move or turn. The turtle also has *properties*. A property is set using the equal sign (`=`). The color and width of the pen are properties. Here's how to set them:"
   ]
  },
  {
   "cell_type": "code",
   "execution_count": 7,
   "id": "09ed4ca0-f28d-4b54-989a-55cb63a28dd7",
   "metadata": {},
   "outputs": [
    {
     "data": {
      "application/vnd.jupyter.widget-view+json": {
       "model_id": "1ab5282fd2574e7c86bd5be2f797a4e1",
       "version_major": 2,
       "version_minor": 0
      },
      "text/plain": [
       "MultiCanvas(height=300, sync_image_data=True, width=600)"
      ]
     },
     "metadata": {},
     "output_type": "display_data"
    }
   ],
   "source": [
    "tu.set_width(30) # Draw a 30 pixel line.  \n",
    "tu.set_color('red') # Draw red\n",
    "tu.move(150)\n",
    "tu.turn(120)\n",
    "tu.set_color('green') # Green red\n",
    "tu.move(150)\n",
    "tu.turn(120)\n",
    "tu.set_color('blue') # Draw blue\n",
    "tu.move(150)\n",
    "tu.turn(120)"
   ]
  },
  {
   "attachments": {},
   "cell_type": "markdown",
   "id": "9d825461-673c-4257-9e44-78cc0cac058c",
   "metadata": {},
   "source": [
    "The pen can be any color that is valid in HTML. You can see HTML color codes on [this page](https://htmlcolorcodes.com/)."
   ]
  },
  {
   "cell_type": "code",
   "execution_count": 8,
   "id": "5db0a6d5-0465-41e1-9346-33d260b528db",
   "metadata": {},
   "outputs": [
    {
     "data": {
      "application/vnd.jupyter.widget-view+json": {
       "model_id": "e7bf9de276b948c7872ecebe01dcfee8",
       "version_major": 2,
       "version_minor": 0
      },
      "text/plain": [
       "MultiCanvas(height=300, sync_image_data=True, width=600)"
      ]
     },
     "metadata": {},
     "output_type": "display_data"
    }
   ],
   "source": [
    "tu.set_width(30) # Draw a 30 pixel line.  \n",
    "tu.set_color('fuchsia') \n",
    "tu.move(150)\n",
    "tu.turn(120)\n",
    "tu.set_color('#ff1010') \n",
    "tu.move(150)\n",
    "tu.turn(120)\n",
    "tu.set_color('#00ff00') \n",
    "tu.move(150)\n",
    "tu.turn(120)"
   ]
  },
  {
   "attachments": {},
   "cell_type": "markdown",
   "id": "b0a12647-d56c-4307-803d-21b5230049c8",
   "metadata": {},
   "source": [
    "## Moving the Turtle to Absolute Coordinates \n",
    "\n",
    "The `goto` method moves the turtle to a particular place. If the pen is down it will draw a line on the path to that location. If the pen is up no line will be drawn. "
   ]
  },
  {
   "cell_type": "code",
   "execution_count": 9,
   "id": "888a2f43-5367-460f-833b-24f35edba748",
   "metadata": {},
   "outputs": [
    {
     "data": {
      "application/vnd.jupyter.widget-view+json": {
       "model_id": "6ac369ef91e54958ac3c04b58f77db97",
       "version_major": 2,
       "version_minor": 0
      },
      "text/plain": [
       "MultiCanvas(height=300, sync_image_data=True, width=600)"
      ]
     },
     "metadata": {},
     "output_type": "display_data"
    }
   ],
   "source": [
    "tu.goto(-100, -100)\n",
    "tu.goto(100, -100)\n",
    "tu.goto(100, 100)\n",
    "tu.goto(-100, 100)"
   ]
  },
  {
   "attachments": {},
   "cell_type": "markdown",
   "id": "c59f98f0-3038-46e8-bd7d-7ca7aa140419",
   "metadata": {},
   "source": [
    "## Controlling the Pen's Heading \n",
    "\n",
    "The `heading` property controls where the turtle is facing. The heading is in degrees. The table shows you how to convert degrees into directions:\n",
    "\n",
    "| `heading` | Facing | \n",
    "| --- | --- | \n",
    "| 0 | Up | \n",
    "| 90 | Left | \n",
    "| 180 | Down | \n",
    "| 270 | Right | \n",
    "\n",
    "Here's an example of the `heading` property. "
   ]
  },
  {
   "cell_type": "code",
   "execution_count": 10,
   "id": "4308304f-cdd5-4f53-8df2-78dac337ff89",
   "metadata": {},
   "outputs": [
    {
     "data": {
      "application/vnd.jupyter.widget-view+json": {
       "model_id": "c48aca513ed140f0884bc3399f25e196",
       "version_major": 2,
       "version_minor": 0
      },
      "text/plain": [
       "MultiCanvas(height=300, sync_image_data=True, width=600)"
      ]
     },
     "metadata": {},
     "output_type": "display_data"
    }
   ],
   "source": [
    "tu.set_heading(90) # Face left \n",
    "tu.move(100)\n",
    "tu.set_heading(180) # Face down\n",
    "tu.move(100)"
   ]
  },
  {
   "attachments": {},
   "cell_type": "markdown",
   "id": "c711fa6c-4658-439e-a8b2-61ff9bb4aa5f",
   "metadata": {},
   "source": [
    "## Writing Text \n",
    "\n",
    "The turtle can write text. The text position and orientation is based on the turtle. "
   ]
  },
  {
   "cell_type": "code",
   "execution_count": 11,
   "id": "ca85e16d-cd74-41f4-abc9-701fa2831b72",
   "metadata": {},
   "outputs": [
    {
     "data": {
      "application/vnd.jupyter.widget-view+json": {
       "model_id": "035b0e8d4e1449f8ad232895b888128b",
       "version_major": 2,
       "version_minor": 0
      },
      "text/plain": [
       "MultiCanvas(height=300, sync_image_data=True, width=600)"
      ]
     },
     "metadata": {},
     "output_type": "display_data"
    }
   ],
   "source": [
    "tu.pen_up()\n",
    "tu.write(\"Python\")\n",
    "tu.turn(30)\n",
    "tu.move(-30)\n",
    "tu.write(\"is\")\n",
    "tu.turn(30)\n",
    "tu.move(-30)\n",
    "tu.write(\"fun\")\n",
    "tu.move(-30)"
   ]
  },
  {
   "attachments": {},
   "cell_type": "markdown",
   "id": "01bc2095-f22d-4b2b-87dc-8129807f4e72",
   "metadata": {},
   "source": [
    "## Showing and Hiding the Turtle\n",
    "\n",
    "If you don't want the turtle to get in the way of your drawing you can use the `hide_turtle` function to make it invisible. The `show_turtle` function makes the turtle visible again. "
   ]
  },
  {
   "cell_type": "code",
   "execution_count": 12,
   "id": "11524a56-d9ae-4ff2-b564-25d85a0710a6",
   "metadata": {},
   "outputs": [
    {
     "data": {
      "application/vnd.jupyter.widget-view+json": {
       "model_id": "2b85738591d74a2b86ab4525e35c956a",
       "version_major": 2,
       "version_minor": 0
      },
      "text/plain": [
       "MultiCanvas(height=300, sync_image_data=True, width=600)"
      ]
     },
     "metadata": {},
     "output_type": "display_data"
    }
   ],
   "source": [
    "tu.move(100)\n",
    "tu.hide_turtle()"
   ]
  },
  {
   "attachments": {},
   "cell_type": "markdown",
   "id": "ba519da2-fc2a-417b-92d7-d854b1a9feff",
   "metadata": {},
   "source": [
    "## Drawing a Polygon\n",
    "\n",
    "The `polygon` function is a *context manager* which makes it possible to make filled shapes."
   ]
  },
  {
   "cell_type": "code",
   "execution_count": 13,
   "id": "8b3a6620-fc5b-48bc-a4a8-1608368bd2ed",
   "metadata": {},
   "outputs": [
    {
     "data": {
      "application/vnd.jupyter.widget-view+json": {
       "model_id": "60991c06c5584855a00deaacd49cf354",
       "version_major": 2,
       "version_minor": 0
      },
      "text/plain": [
       "MultiCanvas(height=300, sync_image_data=True, width=600)"
      ]
     },
     "metadata": {},
     "output_type": "display_data"
    }
   ],
   "source": [
    "with tu.polygon():\n",
    "    tu.move(100)\n",
    "    tu.turn(120)\n",
    "    tu.move(100)\n",
    "    tu.turn(120)\n",
    "    tu.move(100)"
   ]
  },
  {
   "cell_type": "markdown",
   "id": "97a9296e-3336-4bc1-9b86-4df48ae438d0",
   "metadata": {},
   "source": [
    "The `fill`, `width` and `color` arguments are optional keyword-only arguments:"
   ]
  },
  {
   "cell_type": "code",
   "execution_count": 14,
   "id": "916d3594-47b7-4b2a-8462-f7e09b812963",
   "metadata": {},
   "outputs": [
    {
     "data": {
      "application/vnd.jupyter.widget-view+json": {
       "model_id": "7b1ca5a689fa49ab9298783aa9e26c26",
       "version_major": 2,
       "version_minor": 0
      },
      "text/plain": [
       "MultiCanvas(height=300, sync_image_data=True, width=600)"
      ]
     },
     "metadata": {},
     "output_type": "display_data"
    }
   ],
   "source": [
    "with tu.polygon(fill=\"blue\", width=10, color=\"orange\"):\n",
    "    tu.move(100)\n",
    "    tu.turn(120)\n",
    "    tu.move(100)\n",
    "    tu.turn(120)\n",
    "    tu.move(100)"
   ]
  },
  {
   "attachments": {},
   "cell_type": "markdown",
   "id": "00ee3f47-c7f5-49d9-9e08-75356abe5f61",
   "metadata": {},
   "source": [
    "The `polygon` function finishes off your shape for you by adding a line if needed. Notice how you can make the code above shorter by not drawing the last line.  "
   ]
  },
  {
   "cell_type": "code",
   "execution_count": 15,
   "id": "f819a640-e42e-4d8c-8fd2-b83cc67e05d3",
   "metadata": {},
   "outputs": [
    {
     "data": {
      "application/vnd.jupyter.widget-view+json": {
       "model_id": "519ae5f352c04afaac2a543b402a38c8",
       "version_major": 2,
       "version_minor": 0
      },
      "text/plain": [
       "MultiCanvas(height=300, sync_image_data=True, width=600)"
      ]
     },
     "metadata": {},
     "output_type": "display_data"
    }
   ],
   "source": [
    "with tu.polygon():\n",
    "    tu.move(100) # Draw the first line\n",
    "    tu.turn(120)\n",
    "    tu.move(100) # Draw the second line\n",
    "    # The third is added automatically"
   ]
  },
  {
   "attachments": {},
   "cell_type": "markdown",
   "id": "50b10341-7cf8-41ff-8e1b-6f01b754784e",
   "metadata": {},
   "source": [
    "## Setting a Background Image \n",
    "\n",
    "You can set a custom background image for the arena. The image is automatically scaled to the size of the arena. "
   ]
  },
  {
   "cell_type": "code",
   "execution_count": 26,
   "id": "048e309b-62cd-4b54-a127-bb9f455258c9",
   "metadata": {},
   "outputs": [
    {
     "data": {
      "application/vnd.jupyter.widget-view+json": {
       "model_id": "83afd3c7c7214871a74b910555183d40",
       "version_major": 2,
       "version_minor": 0
      },
      "text/plain": [
       "MultiCanvas(height=300, sync_image_data=True, width=600)"
      ]
     },
     "metadata": {},
     "output_type": "display_data"
    }
   ],
   "source": [
    "tu.set_background(\"maze.png\")"
   ]
  },
  {
   "attachments": {},
   "cell_type": "markdown",
   "id": "1b403edd-cd56-4af6-9c12-e80dbf5b6a05",
   "metadata": {},
   "source": [
    "## Controlling the Shape of the Arena \n",
    "\n",
    "The `set_size` resizes the arena. The default arena size is 600 by 300 pixels. When you resize the arena the turtle is automatically moved to the middle:"
   ]
  },
  {
   "cell_type": "code",
   "execution_count": 17,
   "id": "ba784cdf-c5ba-44b6-ac43-2cabf5150b84",
   "metadata": {},
   "outputs": [
    {
     "data": {
      "application/vnd.jupyter.widget-view+json": {
       "model_id": "a1cfc631fb934da58099b2fe483de725",
       "version_major": 2,
       "version_minor": 0
      },
      "text/plain": [
       "MultiCanvas(height=300, sync_image_data=True, width=600)"
      ]
     },
     "metadata": {},
     "output_type": "display_data"
    }
   ],
   "source": [
    "tu.set_size(100, 100)\n",
    "tu.move(20)\n",
    "tu.turn(-120)\n",
    "tu.move(20)\n",
    "tu.turn(-120)\n",
    "tu.move(20)\n",
    "tu.set_size(400, 300)"
   ]
  },
  {
   "attachments": {},
   "cell_type": "markdown",
   "id": "f1291c20-5629-49fd-a883-63f4170a2c62",
   "metadata": {
    "tags": []
   },
   "source": [
    "## Getting Help \n",
    "\n",
    "The `help` function in Python can show you the documentation for an object like the pen. "
   ]
  },
  {
   "cell_type": "code",
   "execution_count": 18,
   "id": "85f8af04-2271-4ac7-a63c-4e5f6008f28d",
   "metadata": {},
   "outputs": [
    {
     "name": "stdout",
     "output_type": "stream",
     "text": [
      "Help on package jupyter_turtle:\n",
      "\n",
      "NAME\n",
      "    jupyter_turtle\n",
      "\n",
      "PACKAGE CONTENTS\n",
      "    turtle\n",
      "\n",
      "FUNCTIONS\n",
      "    clear()\n",
      "        Clear the canvas.\n",
      "\n",
      "    goto(*place: Union[Tuple[int, int], Sequence[int], jupyter_turtle.turtle.DimPoint])\n",
      "        Jump to a point\n",
      "\n",
      "    hide_turtle()\n",
      "        Hide the turtle in the scene.\n",
      "\n",
      "    load_ipython_extension(ipython)\n",
      "\n",
      "    move(distance: float)\n",
      "        Move the turtle by distance pixels.\n",
      "\n",
      "    pen_down()\n",
      "        Put the pen down. Movements will make lines.\n",
      "\n",
      "    pen_up()\n",
      "        Pick the pen up. Movements won't make lines.\n",
      "\n",
      "    polygon(*, color: str | None = None, width: int | None = None, fill: str | None = None)\n",
      "        Draw a polygon by connecting moves together.\n",
      "\n",
      "        Example:\n",
      "\n",
      "        with tu.polygon():\n",
      "            tu.move(100)\n",
      "            tu.turn(45)\n",
      "            tu.move(100)\n",
      "            tu.turn(45)\n",
      "            tu move(100)\n",
      "\n",
      "    post_run_cell(result)\n",
      "        Callback after a cell has run.\n",
      "\n",
      "    pre_run_cell(info)\n",
      "        Callback before a cell is run.\n",
      "\n",
      "    set_background(filename: str)\n",
      "        Set the background image\n",
      "\n",
      "    set_color(color: Union[str, int])\n",
      "        Set the pen color using HTML color notation.\n",
      "\n",
      "    set_heading(heading: float)\n",
      "        Set the pen to face heading in degrees.\n",
      "\n",
      "    set_size(width: int, height: int)\n",
      "        Set the size of the arena.\n",
      "\n",
      "    set_width(width: int)\n",
      "        Set the line thickness.\n",
      "\n",
      "    show_turtle()\n",
      "        Show the turtle in the scene.\n",
      "\n",
      "    turn(degrees: float)\n",
      "        Turn the pen by degrees. Positive numbers turn left, negative numbers\n",
      "        turn right.\n",
      "\n",
      "    write(text: str, font: str = '24px sans-serif', text_align: str = 'center')\n",
      "        Write text.\n",
      "\n",
      "        Arguments:\n",
      "\n",
      "            text: The text to write\n",
      "            font: The HTML font specification\n",
      "            text_align: The alignment of the text relative to the turtle\n",
      "\n",
      "DATA\n",
      "    Sequence = typing.Sequence\n",
      "        A generic version of collections.abc.Sequence.\n",
      "\n",
      "    Tuple = typing.Tuple\n",
      "        Deprecated alias to builtins.tuple.\n",
      "\n",
      "        Tuple[X, Y] is the cross-product type of X and Y.\n",
      "\n",
      "        Example: Tuple[T1, T2] is a tuple of two elements corresponding\n",
      "        to type variables T1 and T2.  Tuple[int, float, str] is a tuple\n",
      "        of an int, a float and a string.\n",
      "\n",
      "        To specify a variable-length tuple of homogeneous type, use Tuple[T, ...].\n",
      "\n",
      "    Union = typing.Union\n",
      "        Union type; Union[X, Y] means either X or Y.\n",
      "\n",
      "        On Python 3.10 and higher, the | operator\n",
      "        can also be used to denote unions;\n",
      "        X | Y means the same thing to the type checker as Union[X, Y].\n",
      "\n",
      "        To define a union, use e.g. Union[int, str]. Details:\n",
      "        - The arguments must be types and there must be at least one.\n",
      "        - None as an argument is a special case and is replaced by\n",
      "          type(None).\n",
      "        - Unions of unions are flattened, e.g.::\n",
      "\n",
      "            assert Union[Union[int, str], float] == Union[int, str, float]\n",
      "\n",
      "        - Unions of a single argument vanish, e.g.::\n",
      "\n",
      "            assert Union[int] == int  # The constructor actually returns int\n",
      "\n",
      "        - Redundant arguments are skipped, e.g.::\n",
      "\n",
      "            assert Union[int, str, int] == Union[int, str]\n",
      "\n",
      "        - When comparing unions, the argument order is ignored, e.g.::\n",
      "\n",
      "            assert Union[int, str] == Union[str, int]\n",
      "\n",
      "        - You cannot subclass or instantiate a union.\n",
      "        - You can use Optional[X] as a shorthand for Union[X, None].\n",
      "\n",
      "FILE\n",
      "    /home/maximus/p4e/python_for_everyone/libs/jupyter_turtle/src/jupyter_turtle/__init__.py\n",
      "\n",
      "\n"
     ]
    }
   ],
   "source": [
    "help(tu)"
   ]
  }
 ],
 "metadata": {
  "kernelspec": {
   "display_name": "Python 3 (ipykernel)",
   "language": "python",
   "name": "python3"
  },
  "language_info": {
   "codemirror_mode": {
    "name": "ipython",
    "version": 3
   },
   "file_extension": ".py",
   "mimetype": "text/x-python",
   "name": "python",
   "nbconvert_exporter": "python",
   "pygments_lexer": "ipython3",
   "version": "3.12.3"
  }
 },
 "nbformat": 4,
 "nbformat_minor": 5
}
